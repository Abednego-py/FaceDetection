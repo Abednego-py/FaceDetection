{
 "cells": [
  {
   "cell_type": "code",
   "execution_count": 6,
   "metadata": {},
   "outputs": [],
   "source": [
    "import cv2"
   ]
  },
  {
   "cell_type": "code",
   "execution_count": 7,
   "metadata": {},
   "outputs": [],
   "source": [
    "# now we have the haarcascades files \n",
    "# to detect the face and eyes to detect the face\n",
    "faces=cv2.CascadeClassifier(\"face.xml\")\n",
    "\n",
    "# to detect the eyes\n",
    "eyes=cv2.CascadeClassifier(\"eye.xml\")\n"
   ]
  },
  {
   "cell_type": "code",
   "execution_count": 8,
   "metadata": {},
   "outputs": [],
   "source": [
    "# capture the frame through webcam\n",
    "capture=cv2.VideoCapture(0)\n"
   ]
  },
  {
   "cell_type": "code",
   "execution_count": 9,
   "metadata": {},
   "outputs": [
    {
     "ename": "KeyboardInterrupt",
     "evalue": "",
     "output_type": "error",
     "traceback": [
      "\u001b[1;31m---------------------------------------------------------------------------\u001b[0m",
      "\u001b[1;31mKeyboardInterrupt\u001b[0m                         Traceback (most recent call last)",
      "Cell \u001b[1;32mIn[9], line 4\u001b[0m\n\u001b[0;32m      1\u001b[0m \u001b[39m# now running the loop for the webcam\u001b[39;00m\n\u001b[0;32m      2\u001b[0m \u001b[39mwhile\u001b[39;00m \u001b[39mTrue\u001b[39;00m:\n\u001b[0;32m      3\u001b[0m     \u001b[39m# reading the webcam\u001b[39;00m\n\u001b[1;32m----> 4\u001b[0m     ret,frame\u001b[39m=\u001b[39mcapture\u001b[39m.\u001b[39;49mread()\n\u001b[0;32m      6\u001b[0m     \u001b[39m# now the face is in the frame\u001b[39;00m\n\u001b[0;32m      7\u001b[0m     \u001b[39m# the detection is done with the gray scale frame\u001b[39;00m\n\u001b[0;32m      8\u001b[0m     gray_frame\u001b[39m=\u001b[39mcv2\u001b[39m.\u001b[39mcvtColor(frame,cv2\u001b[39m.\u001b[39mCOLOR_BGR2GRAY)\n",
      "\u001b[1;31mKeyboardInterrupt\u001b[0m: "
     ]
    },
    {
     "ename": "",
     "evalue": "",
     "output_type": "error",
     "traceback": [
      "\u001b[1;31mThe Kernel crashed while executing code in the the current cell or a previous cell. Please review the code in the cell(s) to identify a possible cause of the failure. Click <a href='https://aka.ms/vscodeJupyterKernelCrash'>here</a> for more info. View Jupyter <a href='command:jupyter.viewOutput'>log</a> for further details."
     ]
    }
   ],
   "source": [
    "\n",
    "# now running the loop for the webcam\n",
    "while True:\n",
    "    # reading the webcam\n",
    "    ret,frame=capture.read()\n",
    "\n",
    "    # now the face is in the frame\n",
    "    # the detection is done with the gray scale frame\n",
    "    gray_frame=cv2.cvtColor(frame,cv2.COLOR_BGR2GRAY)\n",
    "    face=faces.detectMultiScale(gray_frame,1.3,5)\n",
    "\n",
    "    # now getting into the face and its position\n",
    "    for (x,y,w,h) in face:\n",
    "        # drawing the rectangle on the face\n",
    "        cv2.rectangle(frame,(x,y),(x+w,y+h),(0,0,255),thickness=4)\n",
    "\n",
    "        # now the eyes are on the face\n",
    "        # so we have to make the face frame gray\n",
    "        gray_face=gray_frame[y:y+h,x:x+w]\n",
    "\n",
    "        # make the color face also\n",
    "        color_face=frame[y:y+h,x:x+w]\n",
    "\n",
    "        # check the eyes on this face\n",
    "        eye=eyes.detectMultiScale(gray_face,1.3,5)\n",
    "\n",
    "        # get into the eyes with its position\n",
    "        for (a,b,c,d) in eye:\n",
    "            # we have to draw the rectangle on the\n",
    "            # coloured face\n",
    "            cv2.rectangle(color_face,(a,b),(a+c,b+d),(0,255,0),thickness=4)\n",
    "\n",
    "    # show the frame\n",
    "    cv2.imshow(\"Abednego's Frame\",frame)\n",
    "    if cv2.waitKey(1)==13:\n",
    "        break\n",
    "\n",
    "# after ending the loop release the frame\n",
    "capture.release()\n",
    "cv2.destroyAllWindows()"
   ]
  },
  {
   "cell_type": "code",
   "execution_count": 5,
   "metadata": {},
   "outputs": [
    {
     "data": {
      "text/plain": [
       "-1"
      ]
     },
     "execution_count": 5,
     "metadata": {},
     "output_type": "execute_result"
    }
   ],
   "source": [
    "# Load the cascade\n",
    "face_cascade = cv2.CascadeClassifier('haarcascade_frontalface_default.xml')\n",
    "# Read the input image\n",
    "img = cv2.imread('Abednego Aginam Mobile App Developer.jpg')\n",
    "# Convert into grayscale\n",
    "gray = cv2.cvtColor(img, cv2.COLOR_BGR2GRAY)\n",
    "# Detect faces\n",
    "faces = face_cascade.detectMultiScale(gray, 1.1, 4)\n",
    "# Draw rectangle around the faces\n",
    "for (x, y, w, h) in faces:\n",
    "    cv2.rectangle(img, (x, y), (x+w, y+h), (255, 0, 0), 2)\n",
    "# Display the output\n",
    "cv2.imshow('img', img)\n",
    "cv2.waitKey()"
   ]
  },
  {
   "cell_type": "code",
   "execution_count": 1,
   "metadata": {},
   "outputs": [
    {
     "ename": "",
     "evalue": "",
     "output_type": "error",
     "traceback": [
      "\u001b[1;31mThe Kernel crashed while executing code in the the current cell or a previous cell. Please review the code in the cell(s) to identify a possible cause of the failure. Click <a href='https://aka.ms/vscodeJupyterKernelCrash'>here</a> for more info. View Jupyter <a href='command:jupyter.viewOutput'>log</a> for further details."
     ]
    }
   ],
   "source": [
    "import cv2\n",
    "\n",
    "# Load the cascade\n",
    "face_cascade = cv2.CascadeClassifier('haarcascade_frontalface_default.xml')\n",
    "\n",
    "# To capture video from webcam. \n",
    "cap = cv2.VideoCapture(0)\n",
    "# To use a video file as input \n",
    "# cap = cv2.VideoCapture('filename.mp4')\n",
    "\n",
    "while True:\n",
    "    # Read the frame\n",
    "    _, img = cap.read()\n",
    "    # Convert to grayscale\n",
    "    gray = cv2.cvtColor(img, cv2.COLOR_BGR2GRAY)\n",
    "    # Detect the faces\n",
    "    faces = face_cascade.detectMultiScale(gray, 1.1, 4)\n",
    "    # Draw the rectangle around each face\n",
    "    for (x, y, w, h) in faces:\n",
    "        cv2.rectangle(img, (x, y), (x+w, y+h), (255, 0, 0), 2)\n",
    "    # Display\n",
    "    cv2.imshow('img', img)\n",
    "    # Stop if escape key is pressed\n",
    "    k = cv2.waitKey(30) & 0xff\n",
    "    if k==27:\n",
    "        break\n",
    "# Release the VideoCapture object\n",
    "cap.release()"
   ]
  },
  {
   "cell_type": "code",
   "execution_count": null,
   "metadata": {},
   "outputs": [],
   "source": []
  }
 ],
 "metadata": {
  "kernelspec": {
   "display_name": "env",
   "language": "python",
   "name": "python3"
  },
  "language_info": {
   "codemirror_mode": {
    "name": "ipython",
    "version": 3
   },
   "file_extension": ".py",
   "mimetype": "text/x-python",
   "name": "python",
   "nbconvert_exporter": "python",
   "pygments_lexer": "ipython3",
   "version": "3.10.4 (tags/v3.10.4:9d38120, Mar 23 2022, 23:13:41) [MSC v.1929 64 bit (AMD64)]"
  },
  "vscode": {
   "interpreter": {
    "hash": "ecfc5d5526af82afb06f3d5e319ca646a609d4cfc2d43daaf9292e11ac0d1e2a"
   }
  }
 },
 "nbformat": 4,
 "nbformat_minor": 4
}
